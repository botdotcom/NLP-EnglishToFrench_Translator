{
 "cells": [
  {
   "cell_type": "markdown",
   "metadata": {
    "collapsed": true
   },
   "source": [
    "# NLP Foundations Nanodegree\n",
    "## Machine Translation Project\n",
    "Please be sure to read the instructions carefully!\n",
    "\n",
    "## Introduction\n",
    "In this notebook, you will build a deep neural network that functions as part of an end-to-end machine translation pipeline. Your completed pipeline will accept English text as input and return the French translation.\n",
    "\n",
    "- **Preprocess** - You'll convert text to sequence of integers.\n",
    "- **Models** Create models which accepts a sequence of integers as input and returns a probability distribution over possible translations. After learning about the basic types of neural networks that are often used for machine translation, you will engage in your own investigations, to design your own model!\n",
    "- **Prediction** Run the model on English text."
   ]
  },
  {
   "cell_type": "code",
   "execution_count": 2,
   "metadata": {},
   "outputs": [],
   "source": [
    "%load_ext autoreload\n",
    "%aimport helper, tests\n",
    "%autoreload 1"
   ]
  },
  {
   "cell_type": "code",
   "execution_count": 3,
   "metadata": {},
   "outputs": [
    {
     "name": "stderr",
     "output_type": "stream",
     "text": [
      "Using TensorFlow backend.\n"
     ]
    }
   ],
   "source": [
    "import collections\n",
    "\n",
    "import helper\n",
    "import numpy as np\n",
    "import project_tests as tests\n",
    "\n",
    "from keras.preprocessing.text import Tokenizer\n",
    "from keras.preprocessing.sequence import pad_sequences\n",
    "from keras.models import Model, Sequential\n",
    "from keras.layers import GRU, Input, Dense, TimeDistributed, Activation, RepeatVector, Bidirectional\n",
    "from keras.layers.embeddings import Embedding\n",
    "from keras.optimizers import Adam\n",
    "from keras.losses import sparse_categorical_crossentropy"
   ]
  },
  {
   "cell_type": "markdown",
   "metadata": {},
   "source": [
    "### Verify access to the GPU\n",
    "The following test applies only if you expect to be using a GPU, e.g., while running in a Udacity Workspace or using an AWS instance with GPU support. Run the next cell, and verify that the device_type is \"GPU\".\n",
    "- If the device is not GPU & you are running from a Udacity Workspace, then save your workspace with the icon at the top, then click \"enable\" at the bottom of the workspace.\n",
    "- If the device is not GPU & you are running from an AWS instance, then refer to the cloud computing instructions in the classroom to verify your setup steps."
   ]
  },
  {
   "cell_type": "code",
   "execution_count": 4,
   "metadata": {},
   "outputs": [
    {
     "name": "stdout",
     "output_type": "stream",
     "text": [
      "[name: \"/cpu:0\"\n",
      "device_type: \"CPU\"\n",
      "memory_limit: 268435456\n",
      "locality {\n",
      "}\n",
      "incarnation: 10330470309198872356\n",
      ", name: \"/gpu:0\"\n",
      "device_type: \"GPU\"\n",
      "memory_limit: 357171200\n",
      "locality {\n",
      "  bus_id: 1\n",
      "}\n",
      "incarnation: 5141751227049272046\n",
      "physical_device_desc: \"device: 0, name: Tesla K80, pci bus id: 0000:00:04.0\"\n",
      "]\n"
     ]
    }
   ],
   "source": [
    "from tensorflow.python.client import device_lib\n",
    "print(device_lib.list_local_devices())"
   ]
  },
  {
   "cell_type": "markdown",
   "metadata": {},
   "source": [
    "## Dataset\n",
    "We begin by investigating the dataset that will be used to train and evaluate your pipeline.  The most common datasets used for machine translation are from [WMT](http://www.statmt.org/).  However, that will take a long time to train a neural network on.  We'll be using a dataset we created for this project that contains a small vocabulary.  You'll be able to train your model in a reasonable time with this dataset.\n",
    "### Load Data\n",
    "The data is located in `data/small_vocab_en` and `data/small_vocab_fr`. The `small_vocab_en` file contains English sentences with their French translations in the `small_vocab_fr` file. Load the English and French data from these files from running the cell below."
   ]
  },
  {
   "cell_type": "code",
   "execution_count": 5,
   "metadata": {},
   "outputs": [
    {
     "name": "stdout",
     "output_type": "stream",
     "text": [
      "Dataset Loaded\n"
     ]
    }
   ],
   "source": [
    "# Load English data\n",
    "english_sentences = helper.load_data('data/small_vocab_en')\n",
    "# Load French data\n",
    "french_sentences = helper.load_data('data/small_vocab_fr')\n",
    "\n",
    "print('Dataset Loaded')"
   ]
  },
  {
   "cell_type": "markdown",
   "metadata": {},
   "source": [
    "### Files\n",
    "Each line in `small_vocab_en` contains an English sentence with the respective translation in each line of `small_vocab_fr`.  View the first two lines from each file."
   ]
  },
  {
   "cell_type": "code",
   "execution_count": 6,
   "metadata": {},
   "outputs": [
    {
     "name": "stdout",
     "output_type": "stream",
     "text": [
      "small_vocab_en Line 1:  new jersey is sometimes quiet during autumn , and it is snowy in april .\n",
      "small_vocab_fr Line 1:  new jersey est parfois calme pendant l' automne , et il est neigeux en avril .\n",
      "small_vocab_en Line 2:  the united states is usually chilly during july , and it is usually freezing in november .\n",
      "small_vocab_fr Line 2:  les états-unis est généralement froid en juillet , et il gèle habituellement en novembre .\n"
     ]
    }
   ],
   "source": [
    "for sample_i in range(2):\n",
    "    print('small_vocab_en Line {}:  {}'.format(sample_i + 1, english_sentences[sample_i]))\n",
    "    print('small_vocab_fr Line {}:  {}'.format(sample_i + 1, french_sentences[sample_i]))"
   ]
  },
  {
   "cell_type": "markdown",
   "metadata": {},
   "source": [
    "From looking at the sentences, you can see they have been preprocessed already.  The puncuations have been delimited using spaces. All the text have been converted to lowercase.  This should save you some time, but the text requires more preprocessing.\n",
    "### Vocabulary\n",
    "The complexity of the problem is determined by the complexity of the vocabulary.  A more complex vocabulary is a more complex problem.  Let's look at the complexity of the dataset we'll be working with."
   ]
  },
  {
   "cell_type": "code",
   "execution_count": 7,
   "metadata": {},
   "outputs": [
    {
     "name": "stdout",
     "output_type": "stream",
     "text": [
      "1823250 English words.\n",
      "227 unique English words.\n",
      "10 Most common words in the English dataset:\n",
      "\"is\" \",\" \".\" \"in\" \"it\" \"during\" \"the\" \"but\" \"and\" \"sometimes\"\n",
      "\n",
      "1961295 French words.\n",
      "355 unique French words.\n",
      "10 Most common words in the French dataset:\n",
      "\"est\" \".\" \",\" \"en\" \"il\" \"les\" \"mais\" \"et\" \"la\" \"parfois\"\n"
     ]
    }
   ],
   "source": [
    "english_words_counter = collections.Counter([word for sentence in english_sentences for word in sentence.split()])\n",
    "french_words_counter = collections.Counter([word for sentence in french_sentences for word in sentence.split()])\n",
    "\n",
    "print('{} English words.'.format(len([word for sentence in english_sentences for word in sentence.split()])))\n",
    "print('{} unique English words.'.format(len(english_words_counter)))\n",
    "print('10 Most common words in the English dataset:')\n",
    "print('\"' + '\" \"'.join(list(zip(*english_words_counter.most_common(10)))[0]) + '\"')\n",
    "print()\n",
    "print('{} French words.'.format(len([word for sentence in french_sentences for word in sentence.split()])))\n",
    "print('{} unique French words.'.format(len(french_words_counter)))\n",
    "print('10 Most common words in the French dataset:')\n",
    "print('\"' + '\" \"'.join(list(zip(*french_words_counter.most_common(10)))[0]) + '\"')"
   ]
  },
  {
   "cell_type": "markdown",
   "metadata": {},
   "source": [
    "For comparison, _Alice's Adventures in Wonderland_ contains 2,766 unique words of a total of 15,500 words.\n",
    "## Preprocess\n",
    "For this project, you won't use text data as input to your model. Instead, you'll convert the text into sequences of integers using the following preprocess methods:\n",
    "1. Tokenize the words into ids\n",
    "2. Add padding to make all the sequences the same length.\n",
    "\n",
    "Time to start preprocessing the data...\n",
    "### Tokenize \n",
    "For a neural network to predict on text data, it first has to be turned into data it can understand. Text data like \"dog\" is a sequence of ASCII character encodings.  Since a neural network is a series of multiplication and addition operations, the input data needs to be number(s).\n",
    "\n",
    "We can turn each character into a number or each word into a number.  These are called character and word ids, respectively.  Character ids are used for character level models that generate text predictions for each character.  A word level model uses word ids that generate text predictions for each word.  Word level models tend to learn better, since they are lower in complexity, so we'll use those.\n",
    "\n",
    "Turn each sentence into a sequence of words ids using Keras's [`Tokenizer`](https://keras.io/preprocessing/text/#tokenizer) function. Use this function to tokenize `english_sentences` and `french_sentences` in the cell below.\n",
    "\n",
    "Running the cell will run `tokenize` on sample data and show output for debugging."
   ]
  },
  {
   "cell_type": "code",
   "execution_count": 8,
   "metadata": {},
   "outputs": [
    {
     "name": "stdout",
     "output_type": "stream",
     "text": [
      "{'the': 1, 'quick': 2, 'a': 3, 'brown': 4, 'fox': 5, 'jumps': 6, 'over': 7, 'lazy': 8, 'dog': 9, 'by': 10, 'jove': 11, 'my': 12, 'study': 13, 'of': 14, 'lexicography': 15, 'won': 16, 'prize': 17, 'this': 18, 'is': 19, 'short': 20, 'sentence': 21}\n",
      "\n",
      "Sequence 1 in x\n",
      "  Input:  The quick brown fox jumps over the lazy dog .\n",
      "  Output: [1, 2, 4, 5, 6, 7, 1, 8, 9]\n",
      "Sequence 2 in x\n",
      "  Input:  By Jove , my quick study of lexicography won a prize .\n",
      "  Output: [10, 11, 12, 2, 13, 14, 15, 16, 3, 17]\n",
      "Sequence 3 in x\n",
      "  Input:  This is a short sentence .\n",
      "  Output: [18, 19, 3, 20, 21]\n"
     ]
    }
   ],
   "source": [
    "def tokenize(x):\n",
    "    \"\"\"\n",
    "    Tokenize x\n",
    "    :param x: List of sentences/strings to be tokenized\n",
    "    :return: Tuple of (tokenized x data, tokenizer used to tokenize x)\n",
    "    \"\"\"\n",
    "    # TODO: Implement\n",
    "    tokenizer = Tokenizer()\n",
    "    tokenizer.fit_on_texts(x)\n",
    "    return tokenizer.texts_to_sequences(x), tokenizer #return text-to-numerical arrays\n",
    "\n",
    "tests.test_tokenize(tokenize)\n",
    "\n",
    "# Tokenize Example output\n",
    "text_sentences = [\n",
    "    'The quick brown fox jumps over the lazy dog .',\n",
    "    'By Jove , my quick study of lexicography won a prize .',\n",
    "    'This is a short sentence .']\n",
    "text_tokenized, text_tokenizer = tokenize(text_sentences)\n",
    "print(text_tokenizer.word_index)\n",
    "print()\n",
    "for sample_i, (sent, token_sent) in enumerate(zip(text_sentences, text_tokenized)):\n",
    "    print('Sequence {} in x'.format(sample_i + 1))\n",
    "    print('  Input:  {}'.format(sent))\n",
    "    print('  Output: {}'.format(token_sent))"
   ]
  },
  {
   "cell_type": "markdown",
   "metadata": {},
   "source": [
    "### Padding \n",
    "When batching the sequence of word ids together, each sequence needs to be the same length.  Since sentences are dynamic in length, we can add padding to the end of the sequences to make them the same length.\n",
    "\n",
    "Make sure all the English sequences have the same length and all the French sequences have the same length by adding padding to the **end** of each sequence using Keras's [`pad_sequences`](https://keras.io/preprocessing/sequence/#pad_sequences) function."
   ]
  },
  {
   "cell_type": "code",
   "execution_count": 9,
   "metadata": {},
   "outputs": [
    {
     "name": "stdout",
     "output_type": "stream",
     "text": [
      "Sequence 1 in x\n",
      "  Input:  [1 2 4 5 6 7 1 8 9]\n",
      "  Output: [1 2 4 5 6 7 1 8 9 0]\n",
      "Sequence 2 in x\n",
      "  Input:  [10 11 12  2 13 14 15 16  3 17]\n",
      "  Output: [10 11 12  2 13 14 15 16  3 17]\n",
      "Sequence 3 in x\n",
      "  Input:  [18 19  3 20 21]\n",
      "  Output: [18 19  3 20 21  0  0  0  0  0]\n"
     ]
    }
   ],
   "source": [
    "def pad(x, length=None):\n",
    "    \"\"\"\n",
    "    Pad x\n",
    "    :param x: List of sequences.\n",
    "    :param length: Length to pad the sequence to.  If None, use length of longest sequence in x.\n",
    "    :return: Padded numpy array of sequences\n",
    "    \"\"\"\n",
    "    # TODO: Implement\n",
    "    return pad_sequences(x, maxlen=length, padding='post')\n",
    "\n",
    "tests.test_pad(pad)\n",
    "\n",
    "# Pad Tokenized output\n",
    "test_pad = pad(text_tokenized)\n",
    "for sample_i, (token_sent, pad_sent) in enumerate(zip(text_tokenized, test_pad)):\n",
    "    print('Sequence {} in x'.format(sample_i + 1))\n",
    "    print('  Input:  {}'.format(np.array(token_sent)))\n",
    "    print('  Output: {}'.format(pad_sent))"
   ]
  },
  {
   "cell_type": "markdown",
   "metadata": {},
   "source": [
    "### Preprocess Pipeline\n",
    "Your focus for this project is to build neural network architecture, so we won't ask you to create a preprocess pipeline.  Instead, we've provided you with the implementation of the `preprocess` function."
   ]
  },
  {
   "cell_type": "code",
   "execution_count": 10,
   "metadata": {},
   "outputs": [
    {
     "name": "stdout",
     "output_type": "stream",
     "text": [
      "Data Preprocessed\n",
      "Max English sentence length: 15\n",
      "Max French sentence length: 21\n",
      "English vocabulary size: 199\n",
      "French vocabulary size: 344\n"
     ]
    }
   ],
   "source": [
    "def preprocess(x, y):\n",
    "    \"\"\"\n",
    "    Preprocess x and y\n",
    "    :param x: Feature List of sentences\n",
    "    :param y: Label List of sentences\n",
    "    :return: Tuple of (Preprocessed x, Preprocessed y, x tokenizer, y tokenizer)\n",
    "    \"\"\"\n",
    "    preprocess_x, x_tk = tokenize(x)\n",
    "    preprocess_y, y_tk = tokenize(y)\n",
    "\n",
    "    preprocess_x = pad(preprocess_x)\n",
    "    preprocess_y = pad(preprocess_y)\n",
    "\n",
    "    # Keras's sparse_categorical_crossentropy function requires the labels to be in 3 dimensions\n",
    "    preprocess_y = preprocess_y.reshape(*preprocess_y.shape, 1)\n",
    "\n",
    "    return preprocess_x, preprocess_y, x_tk, y_tk\n",
    "\n",
    "preproc_english_sentences, preproc_french_sentences, english_tokenizer, french_tokenizer =\\\n",
    "    preprocess(english_sentences, french_sentences)\n",
    "    \n",
    "max_english_sequence_length = preproc_english_sentences.shape[1]\n",
    "max_french_sequence_length = preproc_french_sentences.shape[1]\n",
    "english_vocab_size = len(english_tokenizer.word_index)\n",
    "french_vocab_size = len(french_tokenizer.word_index)\n",
    "\n",
    "print('Data Preprocessed')\n",
    "print(\"Max English sentence length:\", max_english_sequence_length)\n",
    "print(\"Max French sentence length:\", max_french_sequence_length)\n",
    "print(\"English vocabulary size:\", english_vocab_size)\n",
    "print(\"French vocabulary size:\", french_vocab_size)"
   ]
  },
  {
   "cell_type": "markdown",
   "metadata": {},
   "source": [
    "## Models\n",
    "In this section, you will experiment with various neural network architectures.\n",
    "You will begin by training four relatively simple architectures.\n",
    "- Model 1 is a simple RNN\n",
    "- Model 2 is a RNN with Embedding\n",
    "- Model 3 is a Bidirectional RNN\n",
    "- Model 4 is an optional Encoder-Decoder RNN\n",
    "\n",
    "After experimenting with the four simple architectures, you will construct a deeper architecture that is designed to outperform all four models.\n",
    "### Ids Back to Text\n",
    "The neural network will be translating the input to words ids, which isn't the final form we want.  We want the French translation.  The function `logits_to_text` will bridge the gab between the logits from the neural network to the French translation.  You'll be using this function to better understand the output of the neural network."
   ]
  },
  {
   "cell_type": "code",
   "execution_count": 11,
   "metadata": {},
   "outputs": [
    {
     "name": "stdout",
     "output_type": "stream",
     "text": [
      "`logits_to_text` function loaded.\n"
     ]
    }
   ],
   "source": [
    "def logits_to_text(logits, tokenizer):\n",
    "    \"\"\"\n",
    "    Turn logits from a neural network into text using the tokenizer\n",
    "    :param logits: Logits from a neural network\n",
    "    :param tokenizer: Keras Tokenizer fit on the labels\n",
    "    :return: String that represents the text of the logits\n",
    "    \"\"\"\n",
    "    index_to_words = {id: word for word, id in tokenizer.word_index.items()}\n",
    "    index_to_words[0] = '<PAD>'\n",
    "\n",
    "    return ' '.join([index_to_words[prediction] for prediction in np.argmax(logits, 1)])\n",
    "\n",
    "print('`logits_to_text` function loaded.')"
   ]
  },
  {
   "cell_type": "markdown",
   "metadata": {},
   "source": [
    "### Model 1: RNN\n",
    "![RNN](images/rnn.png)\n",
    "A basic RNN model is a good baseline for sequence data.  In this model, you'll build a RNN that translates English to French."
   ]
  },
  {
   "cell_type": "code",
   "execution_count": 12,
   "metadata": {},
   "outputs": [
    {
     "name": "stdout",
     "output_type": "stream",
     "text": [
      "**summary**\n",
      "_________________________________________________________________\n",
      "Layer (type)                 Output Shape              Param #   \n",
      "=================================================================\n",
      "gru_1 (GRU)                  (None, 21, 128)           49920     \n",
      "_________________________________________________________________\n",
      "time_distributed_1 (TimeDist (None, 21, 344)           44376     \n",
      "=================================================================\n",
      "Total params: 94,296\n",
      "Trainable params: 94,296\n",
      "Non-trainable params: 0\n",
      "_________________________________________________________________\n",
      "**summary**\n",
      "_________________________________________________________________\n",
      "Layer (type)                 Output Shape              Param #   \n",
      "=================================================================\n",
      "gru_2 (GRU)                  (None, 21, 128)           49920     \n",
      "_________________________________________________________________\n",
      "time_distributed_2 (TimeDist (None, 21, 345)           44505     \n",
      "=================================================================\n",
      "Total params: 94,425\n",
      "Trainable params: 94,425\n",
      "Non-trainable params: 0\n",
      "_________________________________________________________________\n",
      "Train on 110288 samples, validate on 27573 samples\n",
      "Epoch 1/20\n",
      "110288/110288 [==============================] - 9s 83us/step - loss: 3.0503 - acc: 0.4448 - val_loss: 2.3212 - val_acc: 0.4851\n",
      "Epoch 2/20\n",
      "110288/110288 [==============================] - 7s 65us/step - loss: 2.1576 - acc: 0.5171 - val_loss: 1.8486 - val_acc: 0.5670\n",
      "Epoch 3/20\n",
      "110288/110288 [==============================] - 7s 65us/step - loss: 1.8275 - acc: 0.5700 - val_loss: 1.6435 - val_acc: 0.5853\n",
      "Epoch 4/20\n",
      "110288/110288 [==============================] - 7s 66us/step - loss: 1.6689 - acc: 0.5835 - val_loss: 1.5413 - val_acc: 0.5985\n",
      "Epoch 5/20\n",
      "110288/110288 [==============================] - 7s 66us/step - loss: 1.5695 - acc: 0.5972 - val_loss: 1.4744 - val_acc: 0.6027\n",
      "Epoch 6/20\n",
      "110288/110288 [==============================] - 7s 65us/step - loss: 1.4955 - acc: 0.6083 - val_loss: 1.4316 - val_acc: 0.6091\n",
      "Epoch 7/20\n",
      "110288/110288 [==============================] - 7s 65us/step - loss: 1.4358 - acc: 0.6160 - val_loss: 1.3945 - val_acc: 0.6075\n",
      "Epoch 8/20\n",
      "110288/110288 [==============================] - 7s 65us/step - loss: 1.3845 - acc: 0.6216 - val_loss: 1.3740 - val_acc: 0.6062\n",
      "Epoch 9/20\n",
      "110288/110288 [==============================] - 7s 65us/step - loss: 1.3390 - acc: 0.6283 - val_loss: 1.3832 - val_acc: 0.6028\n",
      "Epoch 10/20\n",
      "110288/110288 [==============================] - 7s 65us/step - loss: 1.3015 - acc: 0.6354 - val_loss: 1.3752 - val_acc: 0.6043\n",
      "Epoch 11/20\n",
      "110288/110288 [==============================] - 7s 65us/step - loss: 1.2700 - acc: 0.6406 - val_loss: 1.3731 - val_acc: 0.6035\n",
      "Epoch 12/20\n",
      "110288/110288 [==============================] - 7s 65us/step - loss: 1.2427 - acc: 0.6465 - val_loss: 1.4021 - val_acc: 0.5969\n",
      "Epoch 13/20\n",
      "110288/110288 [==============================] - 7s 65us/step - loss: 1.2202 - acc: 0.6493 - val_loss: 1.3912 - val_acc: 0.5988\n",
      "Epoch 14/20\n",
      "110288/110288 [==============================] - 7s 65us/step - loss: 1.1999 - acc: 0.6529 - val_loss: 1.3948 - val_acc: 0.5998\n",
      "Epoch 15/20\n",
      "110288/110288 [==============================] - 7s 65us/step - loss: 1.1820 - acc: 0.6554 - val_loss: 1.4126 - val_acc: 0.5965\n",
      "Epoch 16/20\n",
      "110288/110288 [==============================] - 7s 65us/step - loss: 1.1663 - acc: 0.6582 - val_loss: 1.4087 - val_acc: 0.5996\n",
      "Epoch 17/20\n",
      "110288/110288 [==============================] - 7s 65us/step - loss: 1.1514 - acc: 0.6600 - val_loss: 1.4407 - val_acc: 0.5884\n",
      "Epoch 18/20\n",
      "110288/110288 [==============================] - 7s 65us/step - loss: 1.1368 - acc: 0.6624 - val_loss: 1.4505 - val_acc: 0.5936\n",
      "Epoch 19/20\n",
      "110288/110288 [==============================] - 7s 65us/step - loss: 1.1238 - acc: 0.6642 - val_loss: 1.4739 - val_acc: 0.5891\n",
      "Epoch 20/20\n",
      "110288/110288 [==============================] - 7s 65us/step - loss: 1.1129 - acc: 0.6658 - val_loss: 1.4670 - val_acc: 0.5877\n",
      "new jersey est parfois parfois en l' et il est agréable en en <PAD> <PAD> <PAD> <PAD> <PAD> <PAD> <PAD> <PAD>\n"
     ]
    }
   ],
   "source": [
    "def simple_model(input_shape, output_sequence_length, english_vocab_size, french_vocab_size, learning_rate=0.001):\n",
    "    \"\"\"\n",
    "    Build and train a basic RNN on x and y\n",
    "    :param input_shape: Tuple of input shape\n",
    "    :param output_sequence_length: Length of output sequence\n",
    "    :param english_vocab_size: Number of unique English words in the dataset\n",
    "    :param french_vocab_size: Number of unique French words in the dataset\n",
    "    :return: Keras model built, but not trained\n",
    "    \"\"\"\n",
    "    # TODO: Build the layers\n",
    "    model = Sequential()\n",
    "    model.add(GRU(128, dropout=0.1,input_shape=input_shape[1:], return_sequences=True) )\n",
    "    model.add(TimeDistributed(Dense(french_vocab_size, activation='softmax')))\n",
    "    \n",
    "    print('**summary**')\n",
    "    model.summary()\n",
    "    model.compile(loss=sparse_categorical_crossentropy,\n",
    "                  optimizer=Adam(learning_rate),\n",
    "                  metrics=['accuracy'])\n",
    "    return model\n",
    "\n",
    "tests.test_simple_model(simple_model)\n",
    "\n",
    "# Reshaping the input to work with a basic RNN\n",
    "tmp_x = pad(preproc_english_sentences, max_french_sequence_length)\n",
    "tmp_x = tmp_x.reshape((-1, preproc_french_sentences.shape[-2], 1))\n",
    "\n",
    "# Train the neural network\n",
    "simple_rnn_model = simple_model(\n",
    "    tmp_x.shape,\n",
    "    preproc_french_sentences.shape[1],\n",
    "    len(english_tokenizer.word_index)+1,\n",
    "    len(french_tokenizer.word_index)+1)\n",
    "simple_rnn_model.fit(tmp_x, preproc_french_sentences, batch_size=1024, epochs=20, validation_split=0.2)\n",
    "\n",
    "# Print prediction(s)\n",
    "print(logits_to_text(simple_rnn_model.predict(tmp_x[:1])[0], french_tokenizer))"
   ]
  },
  {
   "cell_type": "code",
   "execution_count": 13,
   "metadata": {},
   "outputs": [
    {
     "name": "stdout",
     "output_type": "stream",
     "text": [
      "Training accuracy:  0.587785655739\n"
     ]
    }
   ],
   "source": [
    "# Print score to check training accuracy\n",
    "score = simple_rnn_model.evaluate(tmp_x, preproc_french_sentences, verbose=0)\n",
    "print(\"Training accuracy: \", score[1])"
   ]
  },
  {
   "cell_type": "markdown",
   "metadata": {},
   "source": [
    "### Model 2: Embedding \n",
    "![RNN](images/embedding.png)\n",
    "You've turned the words into ids, but there's a better representation of a word.  This is called word embeddings.  An embedding is a vector representation of the word that is close to similar words in n-dimensional space, where the n represents the size of the embedding vectors.\n",
    "\n",
    "In this model, you'll create a RNN model using embedding."
   ]
  },
  {
   "cell_type": "code",
   "execution_count": 14,
   "metadata": {},
   "outputs": [
    {
     "name": "stdout",
     "output_type": "stream",
     "text": [
      "**summary**\n",
      "_________________________________________________________________\n",
      "Layer (type)                 Output Shape              Param #   \n",
      "=================================================================\n",
      "embedding_1 (Embedding)      (None, 21, 128)           44032     \n",
      "_________________________________________________________________\n",
      "gru_3 (GRU)                  (None, 21, 128)           98688     \n",
      "_________________________________________________________________\n",
      "dense_3 (Dense)              (None, 21, 344)           44376     \n",
      "=================================================================\n",
      "Total params: 187,096\n",
      "Trainable params: 187,096\n",
      "Non-trainable params: 0\n",
      "_________________________________________________________________\n",
      "**summary**\n",
      "_________________________________________________________________\n",
      "Layer (type)                 Output Shape              Param #   \n",
      "=================================================================\n",
      "embedding_2 (Embedding)      (None, 21, 128)           44160     \n",
      "_________________________________________________________________\n",
      "gru_4 (GRU)                  (None, 21, 128)           98688     \n",
      "_________________________________________________________________\n",
      "dense_4 (Dense)              (None, 21, 345)           44505     \n",
      "=================================================================\n",
      "Total params: 187,353\n",
      "Trainable params: 187,353\n",
      "Non-trainable params: 0\n",
      "_________________________________________________________________\n",
      "Train on 110288 samples, validate on 27573 samples\n",
      "Epoch 1/20\n",
      "110288/110288 [==============================] - 10s 90us/step - loss: 3.3623 - acc: 0.4306 - val_loss: 2.5036 - val_acc: 0.4786\n",
      "Epoch 2/20\n",
      "110288/110288 [==============================] - 9s 86us/step - loss: 2.0695 - acc: 0.5430 - val_loss: 1.5887 - val_acc: 0.6239\n",
      "Epoch 3/20\n",
      "110288/110288 [==============================] - 9s 86us/step - loss: 1.3548 - acc: 0.6731 - val_loss: 1.1463 - val_acc: 0.7305\n",
      "Epoch 4/20\n",
      "110288/110288 [==============================] - 9s 86us/step - loss: 1.0151 - acc: 0.7524 - val_loss: 0.8766 - val_acc: 0.7765\n",
      "Epoch 5/20\n",
      "110288/110288 [==============================] - 9s 86us/step - loss: 0.7989 - acc: 0.7899 - val_loss: 0.7022 - val_acc: 0.8085\n",
      "Epoch 6/20\n",
      "110288/110288 [==============================] - 9s 86us/step - loss: 0.6596 - acc: 0.8173 - val_loss: 0.5902 - val_acc: 0.8339\n",
      "Epoch 7/20\n",
      "110288/110288 [==============================] - 9s 86us/step - loss: 0.5658 - acc: 0.8390 - val_loss: 0.5135 - val_acc: 0.8534\n",
      "Epoch 8/20\n",
      "110288/110288 [==============================] - 9s 86us/step - loss: 0.5002 - acc: 0.8551 - val_loss: 0.4583 - val_acc: 0.8674\n",
      "Epoch 9/20\n",
      "110288/110288 [==============================] - 9s 86us/step - loss: 0.4527 - acc: 0.8670 - val_loss: 0.4170 - val_acc: 0.8772\n",
      "Epoch 10/20\n",
      "110288/110288 [==============================] - 9s 86us/step - loss: 0.4145 - acc: 0.8764 - val_loss: 0.3810 - val_acc: 0.8867\n",
      "Epoch 11/20\n",
      "110288/110288 [==============================] - 9s 86us/step - loss: 0.3827 - acc: 0.8852 - val_loss: 0.3556 - val_acc: 0.8931\n",
      "Epoch 12/20\n",
      "110288/110288 [==============================] - 9s 86us/step - loss: 0.3596 - acc: 0.8909 - val_loss: 0.3350 - val_acc: 0.8986\n",
      "Epoch 13/20\n",
      "110288/110288 [==============================] - 9s 86us/step - loss: 0.3393 - acc: 0.8963 - val_loss: 0.3165 - val_acc: 0.9039\n",
      "Epoch 14/20\n",
      "110288/110288 [==============================] - 9s 86us/step - loss: 0.3225 - acc: 0.9007 - val_loss: 0.3024 - val_acc: 0.9074\n",
      "Epoch 15/20\n",
      "110288/110288 [==============================] - 9s 86us/step - loss: 0.3090 - acc: 0.9043 - val_loss: 0.2903 - val_acc: 0.9102\n",
      "Epoch 16/20\n",
      "110288/110288 [==============================] - 9s 86us/step - loss: 0.2975 - acc: 0.9072 - val_loss: 0.2812 - val_acc: 0.9129\n",
      "Epoch 17/20\n",
      "110288/110288 [==============================] - 9s 86us/step - loss: 0.2867 - acc: 0.9102 - val_loss: 0.2749 - val_acc: 0.9140\n",
      "Epoch 18/20\n",
      "110288/110288 [==============================] - 9s 86us/step - loss: 0.2777 - acc: 0.9124 - val_loss: 0.2652 - val_acc: 0.9169\n",
      "Epoch 19/20\n",
      "110288/110288 [==============================] - 9s 86us/step - loss: 0.2705 - acc: 0.9143 - val_loss: 0.2587 - val_acc: 0.9188\n",
      "Epoch 20/20\n",
      "110288/110288 [==============================] - 10s 86us/step - loss: 0.2632 - acc: 0.9163 - val_loss: 0.2542 - val_acc: 0.9194\n",
      "new jersey est parfois calme en l' automne et il est neigeux en avril <PAD> <PAD> <PAD> <PAD> <PAD> <PAD> <PAD>\n"
     ]
    }
   ],
   "source": [
    "def embed_model(input_shape, output_sequence_length, english_vocab_size, french_vocab_size, learning_rate=0.001):\n",
    "    \"\"\"\n",
    "    Build and train a RNN model using word embedding on x and y\n",
    "    :param input_shape: Tuple of input shape\n",
    "    :param output_sequence_length: Length of output sequence\n",
    "    :param english_vocab_size: Number of unique English words in the dataset\n",
    "    :param french_vocab_size: Number of unique French words in the dataset\n",
    "    :return: Keras model built, but not trained\n",
    "    \"\"\"\n",
    "    # TODO: Implement\n",
    "    model = Sequential()\n",
    "    model.add(Embedding(max(english_vocab_size, french_vocab_size) ,128 , input_length=output_sequence_length))\n",
    "    model.add(GRU(128, dropout=0.1, return_sequences=True))\n",
    "    #model.add(LSTM(128, dropout=0.1, return_sequences=True))    #adding this gives 0.00106111023088 accuracy, which is bizarre\n",
    "    model.add(Dense(french_vocab_size, activation='softmax'))\n",
    "    \n",
    "    print('**summary**')\n",
    "    model.summary()\n",
    "    model.compile(loss=sparse_categorical_crossentropy,\n",
    "                  optimizer=Adam(learning_rate),\n",
    "                  metrics=['accuracy'])    \n",
    "    return model\n",
    "\n",
    "tests.test_embed_model(embed_model)\n",
    "\n",
    "# TODO: Reshape the input\n",
    "tmp_x = pad(preproc_english_sentences, preproc_french_sentences.shape[1])\n",
    "\n",
    "# TODO: Train the neural network\n",
    "embed_rnn_model = embed_model(\n",
    "    tmp_x.shape,\n",
    "    preproc_french_sentences.shape[1],\n",
    "    len(english_tokenizer.word_index)+1,\n",
    "    len(french_tokenizer.word_index)+1)\n",
    "embed_rnn_model.fit(tmp_x, preproc_french_sentences, batch_size=1024, epochs=20, validation_split=0.2)\n",
    "\n",
    "# TODO: Print prediction(s)\n",
    "print(logits_to_text(embed_rnn_model.predict(tmp_x[:1])[0], french_tokenizer))"
   ]
  },
  {
   "cell_type": "code",
   "execution_count": 15,
   "metadata": {},
   "outputs": [
    {
     "name": "stdout",
     "output_type": "stream",
     "text": [
      "Training accuracy:  0.921077554981\n"
     ]
    }
   ],
   "source": [
    "# Print score to check training accuracy\n",
    "score = embed_rnn_model.evaluate(tmp_x, preproc_french_sentences, verbose=0)\n",
    "print(\"Training accuracy: \", score[1])"
   ]
  },
  {
   "cell_type": "markdown",
   "metadata": {},
   "source": [
    "### Model 3: Bidirectional RNNs \n",
    "![RNN](images/bidirectional.png)\n",
    "One restriction of a RNN is that it can't see the future input, only the past.  This is where bidirectional recurrent neural networks come in.  They are able to see the future data."
   ]
  },
  {
   "cell_type": "code",
   "execution_count": 16,
   "metadata": {},
   "outputs": [
    {
     "name": "stdout",
     "output_type": "stream",
     "text": [
      "shape:  (21, 1)\n",
      "**summary**\n",
      "_________________________________________________________________\n",
      "Layer (type)                 Output Shape              Param #   \n",
      "=================================================================\n",
      "bidirectional_1 (Bidirection (None, 21, 256)           99840     \n",
      "_________________________________________________________________\n",
      "time_distributed_3 (TimeDist (None, 21, 344)           88408     \n",
      "=================================================================\n",
      "Total params: 188,248\n",
      "Trainable params: 188,248\n",
      "Non-trainable params: 0\n",
      "_________________________________________________________________\n",
      "shape:  (21, 1)\n",
      "**summary**\n",
      "_________________________________________________________________\n",
      "Layer (type)                 Output Shape              Param #   \n",
      "=================================================================\n",
      "bidirectional_2 (Bidirection (None, 21, 256)           99840     \n",
      "_________________________________________________________________\n",
      "time_distributed_4 (TimeDist (None, 21, 345)           88665     \n",
      "=================================================================\n",
      "Total params: 188,505\n",
      "Trainable params: 188,505\n",
      "Non-trainable params: 0\n",
      "_________________________________________________________________\n",
      "Train on 110288 samples, validate on 27573 samples\n",
      "Epoch 1/20\n",
      "110288/110288 [==============================] - 12s 110us/step - loss: 2.7445 - acc: 0.4939 - val_loss: 1.8108 - val_acc: 0.5655\n",
      "Epoch 2/20\n",
      "110288/110288 [==============================] - 12s 105us/step - loss: 1.6741 - acc: 0.5827 - val_loss: 1.4978 - val_acc: 0.6037\n",
      "Epoch 3/20\n",
      "110288/110288 [==============================] - 12s 105us/step - loss: 1.4746 - acc: 0.6085 - val_loss: 1.3772 - val_acc: 0.6231\n",
      "Epoch 4/20\n",
      "110288/110288 [==============================] - 12s 106us/step - loss: 1.3611 - acc: 0.6262 - val_loss: 1.3017 - val_acc: 0.6282\n",
      "Epoch 5/20\n",
      "110288/110288 [==============================] - 12s 105us/step - loss: 1.2827 - acc: 0.6388 - val_loss: 1.2655 - val_acc: 0.6343\n",
      "Epoch 6/20\n",
      "110288/110288 [==============================] - 12s 106us/step - loss: 1.2281 - acc: 0.6498 - val_loss: 1.2322 - val_acc: 0.6383\n",
      "Epoch 7/20\n",
      "110288/110288 [==============================] - 12s 105us/step - loss: 1.1849 - acc: 0.6589 - val_loss: 1.2233 - val_acc: 0.6347\n",
      "Epoch 8/20\n",
      "110288/110288 [==============================] - 12s 105us/step - loss: 1.1473 - acc: 0.6667 - val_loss: 1.2302 - val_acc: 0.6355\n",
      "Epoch 9/20\n",
      "110288/110288 [==============================] - 12s 105us/step - loss: 1.1138 - acc: 0.6733 - val_loss: 1.2415 - val_acc: 0.6320\n",
      "Epoch 10/20\n",
      "110288/110288 [==============================] - 12s 105us/step - loss: 1.0838 - acc: 0.6775 - val_loss: 1.2492 - val_acc: 0.6310\n",
      "Epoch 11/20\n",
      "110288/110288 [==============================] - 12s 106us/step - loss: 1.0562 - acc: 0.6813 - val_loss: 1.2961 - val_acc: 0.6204\n",
      "Epoch 12/20\n",
      "110288/110288 [==============================] - 12s 105us/step - loss: 1.0308 - acc: 0.6860 - val_loss: 1.3245 - val_acc: 0.6188\n",
      "Epoch 13/20\n",
      "110288/110288 [==============================] - 12s 105us/step - loss: 1.0098 - acc: 0.6896 - val_loss: 1.3558 - val_acc: 0.6178\n",
      "Epoch 14/20\n",
      "110288/110288 [==============================] - 12s 105us/step - loss: 0.9919 - acc: 0.6926 - val_loss: 1.3941 - val_acc: 0.6159\n",
      "Epoch 15/20\n",
      "110288/110288 [==============================] - 12s 105us/step - loss: 0.9768 - acc: 0.6947 - val_loss: 1.4263 - val_acc: 0.6129\n",
      "Epoch 16/20\n",
      "110288/110288 [==============================] - 12s 105us/step - loss: 0.9626 - acc: 0.6969 - val_loss: 1.4597 - val_acc: 0.6077\n",
      "Epoch 17/20\n",
      "110288/110288 [==============================] - 12s 105us/step - loss: 0.9500 - acc: 0.6995 - val_loss: 1.4820 - val_acc: 0.6090\n",
      "Epoch 18/20\n",
      "110288/110288 [==============================] - 12s 105us/step - loss: 0.9377 - acc: 0.7012 - val_loss: 1.5155 - val_acc: 0.6072\n",
      "Epoch 19/20\n",
      "110288/110288 [==============================] - 12s 105us/step - loss: 0.9249 - acc: 0.7036 - val_loss: 1.5302 - val_acc: 0.6056\n",
      "Epoch 20/20\n",
      "110288/110288 [==============================] - 12s 105us/step - loss: 0.9124 - acc: 0.7058 - val_loss: 1.5664 - val_acc: 0.6018\n",
      "new jersey est parfois froid en printemps mais il est agréable en en <PAD> <PAD> <PAD> <PAD> <PAD> <PAD> <PAD> <PAD>\n"
     ]
    }
   ],
   "source": [
    "def bd_model(input_shape, output_sequence_length, english_vocab_size, french_vocab_size, learning_rate=0.001):\n",
    "    \"\"\"\n",
    "    Build and train a bidirectional RNN model on x and y\n",
    "    :param input_shape: Tuple of input shape\n",
    "    :param output_sequence_length: Length of output sequence\n",
    "    :param english_vocab_size: Number of unique English words in the dataset\n",
    "    :param french_vocab_size: Number of unique French words in the dataset\n",
    "    :return: Keras model built, but not trained\n",
    "    \"\"\"\n",
    "    # TODO: Implement\n",
    "    print(\"shape: \", input_shape[1:])\n",
    "    \n",
    "    model = Sequential()\n",
    "    model.add(Bidirectional(GRU(128, return_sequences=True, dropout=0.1),\n",
    "                        input_shape=input_shape[1:]))\n",
    "    \n",
    "    model.add(TimeDistributed(Dense(french_vocab_size, activation='softmax')))\n",
    "    \n",
    "    print('**summary**')\n",
    "    model.summary()\n",
    "    model.compile(loss=sparse_categorical_crossentropy,\n",
    "                  optimizer=Adam(learning_rate),\n",
    "                  metrics=['accuracy'])\n",
    "    \n",
    "    return model\n",
    "\n",
    "tests.test_bd_model(bd_model)\n",
    "\n",
    "# Reshaping the input to work with a basic RNN\n",
    "tmp_x = pad(preproc_english_sentences, preproc_french_sentences.shape[1])\n",
    "tmp_x = tmp_x.reshape((-1, preproc_french_sentences.shape[-2], 1))\n",
    "\n",
    "# TODO: Train and Print prediction(s)\n",
    "bd_rnn_model = bd_model(\n",
    "    tmp_x.shape,\n",
    "    preproc_french_sentences.shape[1],\n",
    "    len(english_tokenizer.word_index)+1,\n",
    "    len(french_tokenizer.word_index)+1)\n",
    "bd_rnn_model.fit(tmp_x, preproc_french_sentences, batch_size=1024, epochs=20, validation_split=0.2)\n",
    "\n",
    "print(logits_to_text(bd_rnn_model.predict(tmp_x[:1])[0], french_tokenizer))"
   ]
  },
  {
   "cell_type": "code",
   "execution_count": 17,
   "metadata": {},
   "outputs": [
    {
     "name": "stdout",
     "output_type": "stream",
     "text": [
      "Training accuracy:  0.600840560006\n"
     ]
    }
   ],
   "source": [
    "# Print score to check training accuracy\n",
    "score = bd_rnn_model.evaluate(tmp_x, preproc_french_sentences, verbose=0)\n",
    "print(\"Training accuracy: \", score[1])"
   ]
  },
  {
   "cell_type": "markdown",
   "metadata": {},
   "source": [
    "### Model 4: Encoder-Decoder \n",
    "Time to look at encoder-decoder models.  This model is made up of an encoder and decoder. The encoder creates a matrix representation of the sentence.  The decoder takes this matrix as input and predicts the translation as output.\n",
    "\n",
    "Create an encoder-decoder model in the cell below."
   ]
  },
  {
   "cell_type": "code",
   "execution_count": 18,
   "metadata": {},
   "outputs": [
    {
     "name": "stdout",
     "output_type": "stream",
     "text": [
      "**summary**\n",
      "_________________________________________________________________\n",
      "Layer (type)                 Output Shape              Param #   \n",
      "=================================================================\n",
      "gru_7 (GRU)                  (None, 128)               49920     \n",
      "_________________________________________________________________\n",
      "repeat_vector_1 (RepeatVecto (None, 21, 128)           0         \n",
      "_________________________________________________________________\n",
      "gru_8 (GRU)                  (None, 21, 128)           98688     \n",
      "_________________________________________________________________\n",
      "time_distributed_5 (TimeDist (None, 21, 344)           44376     \n",
      "=================================================================\n",
      "Total params: 192,984\n",
      "Trainable params: 192,984\n",
      "Non-trainable params: 0\n",
      "_________________________________________________________________\n",
      "**summary**\n",
      "_________________________________________________________________\n",
      "Layer (type)                 Output Shape              Param #   \n",
      "=================================================================\n",
      "gru_9 (GRU)                  (None, 128)               49920     \n",
      "_________________________________________________________________\n",
      "repeat_vector_2 (RepeatVecto (None, 21, 128)           0         \n",
      "_________________________________________________________________\n",
      "gru_10 (GRU)                 (None, 21, 128)           98688     \n",
      "_________________________________________________________________\n",
      "time_distributed_6 (TimeDist (None, 21, 345)           44505     \n",
      "=================================================================\n",
      "Total params: 193,113\n",
      "Trainable params: 193,113\n",
      "Non-trainable params: 0\n",
      "_________________________________________________________________\n",
      "Train on 110288 samples, validate on 27573 samples\n",
      "Epoch 1/20\n",
      "110288/110288 [==============================] - 12s 107us/step - loss: 3.0078 - acc: 0.4375 - val_loss: 2.4672 - val_acc: 0.4872\n",
      "Epoch 2/20\n",
      "110288/110288 [==============================] - 11s 100us/step - loss: 2.3106 - acc: 0.4995 - val_loss: 2.1609 - val_acc: 0.5063\n",
      "Epoch 3/20\n",
      "110288/110288 [==============================] - 11s 100us/step - loss: 2.0319 - acc: 0.5145 - val_loss: 1.9388 - val_acc: 0.5292\n",
      "Epoch 4/20\n",
      "110288/110288 [==============================] - 11s 100us/step - loss: 1.8642 - acc: 0.5384 - val_loss: 1.7874 - val_acc: 0.5514\n",
      "Epoch 5/20\n",
      "110288/110288 [==============================] - 11s 100us/step - loss: 1.7262 - acc: 0.5592 - val_loss: 1.6678 - val_acc: 0.5670\n",
      "Epoch 6/20\n",
      "110288/110288 [==============================] - 11s 100us/step - loss: 1.6310 - acc: 0.5727 - val_loss: 1.5939 - val_acc: 0.5806\n",
      "Epoch 7/20\n",
      "110288/110288 [==============================] - 11s 100us/step - loss: 1.5626 - acc: 0.5840 - val_loss: 1.5277 - val_acc: 0.5888\n",
      "Epoch 8/20\n",
      "110288/110288 [==============================] - 11s 100us/step - loss: 1.4965 - acc: 0.5956 - val_loss: 1.4677 - val_acc: 0.5974\n",
      "Epoch 9/20\n",
      "110288/110288 [==============================] - 11s 100us/step - loss: 1.4381 - acc: 0.6066 - val_loss: 1.4098 - val_acc: 0.6161\n",
      "Epoch 10/20\n",
      "110288/110288 [==============================] - 11s 100us/step - loss: 1.3906 - acc: 0.6205 - val_loss: 1.3696 - val_acc: 0.6272\n",
      "Epoch 11/20\n",
      "110288/110288 [==============================] - 11s 100us/step - loss: 1.3532 - acc: 0.6275 - val_loss: 1.3370 - val_acc: 0.6294\n",
      "Epoch 12/20\n",
      "110288/110288 [==============================] - 11s 100us/step - loss: 1.3243 - acc: 0.6328 - val_loss: 1.3082 - val_acc: 0.6364\n",
      "Epoch 13/20\n",
      "110288/110288 [==============================] - 11s 100us/step - loss: 1.3022 - acc: 0.6359 - val_loss: 1.2898 - val_acc: 0.6371\n",
      "Epoch 14/20\n",
      "110288/110288 [==============================] - 11s 100us/step - loss: 1.2799 - acc: 0.6380 - val_loss: 1.2691 - val_acc: 0.6404\n",
      "Epoch 15/20\n",
      "110288/110288 [==============================] - 11s 100us/step - loss: 1.2628 - acc: 0.6414 - val_loss: 1.2520 - val_acc: 0.6455\n",
      "Epoch 16/20\n",
      "110288/110288 [==============================] - 11s 100us/step - loss: 1.2506 - acc: 0.6442 - val_loss: 1.2402 - val_acc: 0.6464\n",
      "Epoch 17/20\n",
      "110288/110288 [==============================] - 11s 100us/step - loss: 1.2349 - acc: 0.6467 - val_loss: 1.2195 - val_acc: 0.6504\n",
      "Epoch 18/20\n",
      "110288/110288 [==============================] - 11s 100us/step - loss: 1.2198 - acc: 0.6495 - val_loss: 1.1976 - val_acc: 0.6558\n",
      "Epoch 19/20\n",
      "110288/110288 [==============================] - 11s 100us/step - loss: 1.2002 - acc: 0.6556 - val_loss: 1.1772 - val_acc: 0.6604\n",
      "Epoch 20/20\n",
      "110288/110288 [==============================] - 11s 100us/step - loss: 1.1841 - acc: 0.6610 - val_loss: 1.1597 - val_acc: 0.6686\n",
      "new jersey est parfois agréable en mois et il est est en en <PAD> <PAD> <PAD> <PAD> <PAD> <PAD> <PAD> <PAD>\n"
     ]
    }
   ],
   "source": [
    "def encdec_model(input_shape, output_sequence_length, english_vocab_size, french_vocab_size, learning_rate=0.001):\n",
    "    \"\"\"\n",
    "    Build and train an encoder-decoder model on x and y\n",
    "    :param input_shape: Tuple of input shape\n",
    "    :param output_sequence_length: Length of output sequence\n",
    "    :param english_vocab_size: Number of unique English words in the dataset\n",
    "    :param french_vocab_size: Number of unique French words in the dataset\n",
    "    :return: Keras model built, but not trained\n",
    "    \"\"\"\n",
    "    # OPTIONAL: Implement\n",
    "    model = Sequential()\n",
    "    \n",
    "    #encoder\n",
    "    model.add(GRU(128, input_shape=input_shape[1:], return_sequences=False))\n",
    "    model.add(RepeatVector(output_sequence_length))\n",
    "    \n",
    "    #decoder\n",
    "    model.add(GRU(128, return_sequences=True))\n",
    "    \n",
    "    #output\n",
    "    model.add(TimeDistributed(Dense(french_vocab_size, activation='softmax')))\n",
    "    \n",
    "    print('**summary**')\n",
    "    model.summary()\n",
    "    model.compile(loss=sparse_categorical_crossentropy,\n",
    "                  optimizer=Adam(learning_rate),\n",
    "                  metrics=['accuracy'])\n",
    "    \n",
    "    return model\n",
    "\n",
    "tests.test_encdec_model(encdec_model)\n",
    "\n",
    "\n",
    "# OPTIONAL: Train and Print prediction(s)\n",
    "\n",
    "# Reshaping the input \n",
    "tmp_x = pad(preproc_english_sentences)\n",
    "tmp_x = tmp_x.reshape((-1, preproc_english_sentences.shape[1], 1))\n",
    "\n",
    "# Train\n",
    "encdec_rnn_model = encdec_model(\n",
    "    tmp_x.shape,\n",
    "    preproc_french_sentences.shape[1],\n",
    "    len(english_tokenizer.word_index)+1,\n",
    "    len(french_tokenizer.word_index)+1)\n",
    "encdec_rnn_model.fit(tmp_x, preproc_french_sentences, batch_size=1024, epochs=20, validation_split=0.2)\n",
    "\n",
    "# Print prediction\n",
    "print(logits_to_text(encdec_rnn_model.predict(tmp_x[:1])[0], french_tokenizer))"
   ]
  },
  {
   "cell_type": "code",
   "execution_count": 19,
   "metadata": {},
   "outputs": [
    {
     "name": "stdout",
     "output_type": "stream",
     "text": [
      "Training accuracy:  0.668372354091\n"
     ]
    }
   ],
   "source": [
    "# Print score to check training accuracy\n",
    "score = encdec_rnn_model.evaluate(tmp_x, preproc_french_sentences, verbose=0)\n",
    "print(\"Training accuracy: \", score[1])"
   ]
  },
  {
   "cell_type": "markdown",
   "metadata": {},
   "source": [
    "### Model 5: Custom\n",
    "Use everything you learned from the previous models to create a model that incorporates embedding and a bidirectional rnn into one model."
   ]
  },
  {
   "cell_type": "code",
   "execution_count": 20,
   "metadata": {},
   "outputs": [
    {
     "name": "stdout",
     "output_type": "stream",
     "text": [
      "**summary**\n",
      "_________________________________________________________________\n",
      "Layer (type)                 Output Shape              Param #   \n",
      "=================================================================\n",
      "embedding_3 (Embedding)      (None, 15, 128)           44032     \n",
      "_________________________________________________________________\n",
      "bidirectional_3 (Bidirection (None, 512)               591360    \n",
      "_________________________________________________________________\n",
      "repeat_vector_3 (RepeatVecto (None, 21, 512)           0         \n",
      "_________________________________________________________________\n",
      "bidirectional_4 (Bidirection (None, 21, 512)           1181184   \n",
      "_________________________________________________________________\n",
      "time_distributed_7 (TimeDist (None, 21, 344)           176472    \n",
      "=================================================================\n",
      "Total params: 1,993,048\n",
      "Trainable params: 1,993,048\n",
      "Non-trainable params: 0\n",
      "_________________________________________________________________\n",
      "Final Model Loaded\n"
     ]
    }
   ],
   "source": [
    "def model_final(input_shape, output_sequence_length, english_vocab_size, french_vocab_size, learning_rate=0.005):\n",
    "    \"\"\"\n",
    "    Build and train a model that incorporates embedding, encoder-decoder, and bidirectional RNN on x and y\n",
    "    :param input_shape: Tuple of input shape\n",
    "    :param output_sequence_length: Length of output sequence\n",
    "    :param english_vocab_size: Number of unique English words in the dataset\n",
    "    :param french_vocab_size: Number of unique French words in the dataset\n",
    "    :return: Keras model built, but not trained\n",
    "    \"\"\"\n",
    "    # TODO: Implement\n",
    "    vocab_size = max(english_vocab_size, french_vocab_size)\n",
    "    \n",
    "    # Adding Embedding model\n",
    "    model = Sequential()\n",
    "    model.add(Embedding(vocab_size ,128 , input_length=input_shape[1]))\n",
    "    \n",
    "    # Adding Bidirectional and Encoder-Decoder models\n",
    "    #encoder\n",
    "    model.add(Bidirectional(GRU(256, return_sequences=False)))\n",
    "    model.add(RepeatVector(output_sequence_length))\n",
    "    #decoder\n",
    "    model.add(Bidirectional(GRU(256, return_sequences=True)))\n",
    "    model.add(TimeDistributed(Dense(french_vocab_size, activation='softmax')))  #for output\n",
    "    \n",
    "    print('**summary**')\n",
    "    model.summary()\n",
    "    model.compile(loss=sparse_categorical_crossentropy,\n",
    "                  optimizer=Adam(learning_rate),\n",
    "                  metrics=['accuracy'])\n",
    "    \n",
    "    return model\n",
    "\n",
    "tests.test_model_final(model_final)\n",
    "\n",
    "\n",
    "print('Final Model Loaded')\n",
    "# TODO: Train the final model"
   ]
  },
  {
   "cell_type": "markdown",
   "metadata": {},
   "source": [
    "## Prediction "
   ]
  },
  {
   "cell_type": "code",
   "execution_count": 21,
   "metadata": {},
   "outputs": [
    {
     "name": "stdout",
     "output_type": "stream",
     "text": [
      "**summary**\n",
      "_________________________________________________________________\n",
      "Layer (type)                 Output Shape              Param #   \n",
      "=================================================================\n",
      "embedding_4 (Embedding)      (None, 15, 128)           44160     \n",
      "_________________________________________________________________\n",
      "bidirectional_5 (Bidirection (None, 512)               591360    \n",
      "_________________________________________________________________\n",
      "repeat_vector_4 (RepeatVecto (None, 21, 512)           0         \n",
      "_________________________________________________________________\n",
      "bidirectional_6 (Bidirection (None, 21, 512)           1181184   \n",
      "_________________________________________________________________\n",
      "time_distributed_8 (TimeDist (None, 21, 345)           176985    \n",
      "=================================================================\n",
      "Total params: 1,993,689\n",
      "Trainable params: 1,993,689\n",
      "Non-trainable params: 0\n",
      "_________________________________________________________________\n",
      "Train on 110288 samples, validate on 27573 samples\n",
      "Epoch 1/20\n",
      "110288/110288 [==============================] - 40s 365us/step - loss: 2.3103 - acc: 0.4904 - val_loss: 1.6026 - val_acc: 0.5840\n",
      "Epoch 2/20\n",
      "110288/110288 [==============================] - 39s 355us/step - loss: 1.3111 - acc: 0.6462 - val_loss: 1.0460 - val_acc: 0.7079\n",
      "Epoch 3/20\n",
      "110288/110288 [==============================] - 39s 355us/step - loss: 0.9126 - acc: 0.7368 - val_loss: 0.7709 - val_acc: 0.7702\n",
      "Epoch 4/20\n",
      "110288/110288 [==============================] - 39s 355us/step - loss: 0.6613 - acc: 0.8024 - val_loss: 0.5281 - val_acc: 0.8437\n",
      "Epoch 5/20\n",
      "110288/110288 [==============================] - 39s 356us/step - loss: 0.4377 - acc: 0.8707 - val_loss: 0.3396 - val_acc: 0.9031\n",
      "Epoch 6/20\n",
      "110288/110288 [==============================] - 39s 356us/step - loss: 0.2870 - acc: 0.9175 - val_loss: 0.2373 - val_acc: 0.9336\n",
      "Epoch 7/20\n",
      "110288/110288 [==============================] - 39s 355us/step - loss: 0.1946 - acc: 0.9451 - val_loss: 0.1790 - val_acc: 0.9496\n",
      "Epoch 8/20\n",
      "110288/110288 [==============================] - 39s 356us/step - loss: 0.1493 - acc: 0.9575 - val_loss: 0.1399 - val_acc: 0.9605\n",
      "Epoch 9/20\n",
      "110288/110288 [==============================] - 39s 356us/step - loss: 0.1208 - acc: 0.9653 - val_loss: 0.1339 - val_acc: 0.9607\n",
      "Epoch 10/20\n",
      "110288/110288 [==============================] - 39s 356us/step - loss: 0.1280 - acc: 0.9619 - val_loss: 0.1106 - val_acc: 0.9682\n",
      "Epoch 11/20\n",
      "110288/110288 [==============================] - 39s 356us/step - loss: 0.0914 - acc: 0.9734 - val_loss: 0.1007 - val_acc: 0.9709\n",
      "Epoch 12/20\n",
      "110288/110288 [==============================] - 39s 355us/step - loss: 0.0910 - acc: 0.9726 - val_loss: 0.1007 - val_acc: 0.9714\n",
      "Epoch 13/20\n",
      "110288/110288 [==============================] - 39s 355us/step - loss: 0.0934 - acc: 0.9723 - val_loss: 0.0905 - val_acc: 0.9736\n",
      "Epoch 14/20\n",
      "110288/110288 [==============================] - 39s 356us/step - loss: 0.0651 - acc: 0.9808 - val_loss: 0.0823 - val_acc: 0.9759\n",
      "Epoch 15/20\n",
      "110288/110288 [==============================] - 39s 356us/step - loss: 0.0533 - acc: 0.9844 - val_loss: 0.0733 - val_acc: 0.9792\n",
      "Epoch 16/20\n",
      "110288/110288 [==============================] - 39s 356us/step - loss: 0.0495 - acc: 0.9854 - val_loss: 0.0807 - val_acc: 0.9770\n",
      "Epoch 17/20\n",
      "110288/110288 [==============================] - 39s 356us/step - loss: 0.0626 - acc: 0.9813 - val_loss: 0.0921 - val_acc: 0.9737\n",
      "Epoch 18/20\n",
      "110288/110288 [==============================] - 39s 356us/step - loss: 0.0578 - acc: 0.9829 - val_loss: 0.0849 - val_acc: 0.9758\n",
      "Epoch 19/20\n",
      "110288/110288 [==============================] - 39s 356us/step - loss: 0.0505 - acc: 0.9850 - val_loss: 0.0719 - val_acc: 0.9799\n",
      "Epoch 20/20\n",
      "110288/110288 [==============================] - 39s 356us/step - loss: 0.0401 - acc: 0.9882 - val_loss: 0.0736 - val_acc: 0.9800\n",
      "Sample 1:\n",
      "il a vu un vieux camion jaune <PAD> <PAD> <PAD> <PAD> <PAD> <PAD> <PAD> <PAD> <PAD> <PAD> <PAD> <PAD> <PAD> <PAD>\n",
      "Il a vu un vieux camion jaune\n",
      "Sample 2:\n",
      "new jersey est parfois calme pendant l' automne et il est neigeux en avril <PAD> <PAD> <PAD> <PAD> <PAD> <PAD> <PAD>\n",
      "new jersey est parfois calme pendant l' automne et il est neigeux en avril <PAD> <PAD> <PAD> <PAD> <PAD> <PAD> <PAD>\n"
     ]
    }
   ],
   "source": [
    "def final_predictions(x, y, x_tk, y_tk):\n",
    "    \"\"\"\n",
    "    Gets predictions using the final model\n",
    "    :param x: Preprocessed English data\n",
    "    :param y: Preprocessed French data\n",
    "    :param x_tk: English tokenizer\n",
    "    :param y_tk: French tokenizer\n",
    "    \"\"\"\n",
    "    # TODO: Train neural network using model_final\n",
    "    X_input = pad(preproc_english_sentences)\n",
    "    \n",
    "    model = model_final(\n",
    "        X_input.shape,\n",
    "        preproc_french_sentences.shape[1],\n",
    "        len(english_tokenizer.word_index)+1,\n",
    "        len(french_tokenizer.word_index)+1)\n",
    "    \n",
    "    model.fit(X_input, preproc_french_sentences, batch_size=1024, epochs=20, validation_split=0.2)\n",
    "    \n",
    "    ## DON'T EDIT ANYTHING BELOW THIS LINE\n",
    "    y_id_to_word = {value: key for key, value in y_tk.word_index.items()}\n",
    "    y_id_to_word[0] = '<PAD>'\n",
    "\n",
    "    sentence = 'he saw a old yellow truck'\n",
    "    sentence = [x_tk.word_index[word] for word in sentence.split()]\n",
    "    sentence = pad_sequences([sentence], maxlen=x.shape[-1], padding='post')\n",
    "    sentences = np.array([sentence[0], x[0]])\n",
    "    predictions = model.predict(sentences, len(sentences))\n",
    "\n",
    "    print('Sample 1:')\n",
    "    print(' '.join([y_id_to_word[np.argmax(x)] for x in predictions[0]]))\n",
    "    print('Il a vu un vieux camion jaune')\n",
    "    print('Sample 2:')\n",
    "    print(' '.join([y_id_to_word[np.argmax(x)] for x in predictions[1]]))\n",
    "    print(' '.join([y_id_to_word[np.max(x)] for x in y[0]]))\n",
    "\n",
    "\n",
    "final_predictions(preproc_english_sentences, preproc_french_sentences, english_tokenizer, french_tokenizer)"
   ]
  },
  {
   "cell_type": "markdown",
   "metadata": {},
   "source": [
    "## Submission\n",
    "When you're ready to submit, complete the following steps:\n",
    "1. Review the [rubric](https://review.udacity.com/#!/rubrics/1004/view) to ensure your submission meets all requirements to pass\n",
    "2. Generate an HTML version of this notebook\n",
    "\n",
    "  - Run the next cell to attempt automatic generation (this is the recommended method in Workspaces)\n",
    "  - Navigate to **FILE -> Download as -> HTML (.html)**\n",
    "  - Manually generate a copy using `nbconvert` from your shell terminal\n",
    "```\n",
    "$ pip install nbconvert\n",
    "$ python -m nbconvert machine_translation.ipynb\n",
    "```\n",
    "  \n",
    "3. Submit the project\n",
    "\n",
    "  - If you are in a Workspace, simply click the \"Submit Project\" button (bottom towards the right)\n",
    "  \n",
    "  - Otherwise, add the following files into a zip archive and submit them \n",
    "  - `helper.py`\n",
    "  - `machine_translation.ipynb`\n",
    "  - `machine_translation.html`\n",
    "    - You can export the notebook by navigating to **File -> Download as -> HTML (.html)**."
   ]
  },
  {
   "cell_type": "markdown",
   "metadata": {},
   "source": [
    "### Generate the html\n",
    "\n",
    "**Save your notebook before running the next cell to generate the HTML output.** Then submit your project."
   ]
  },
  {
   "cell_type": "code",
   "execution_count": 22,
   "metadata": {},
   "outputs": [
    {
     "data": {
      "text/plain": [
       "['[NbConvertApp] Converting notebook machine_translation.ipynb to html',\n",
       " '[NbConvertApp] Writing 363526 bytes to machine_translation.html']"
      ]
     },
     "execution_count": 22,
     "metadata": {},
     "output_type": "execute_result"
    }
   ],
   "source": [
    "# Save before you run this cell!\n",
    "!!jupyter nbconvert *.ipynb"
   ]
  },
  {
   "cell_type": "markdown",
   "metadata": {},
   "source": [
    "## Optional Enhancements\n",
    "\n",
    "This project focuses on learning various network architectures for machine translation, but we don't evaluate the models according to best practices by splitting the data into separate test & training sets -- so the model accuracy is overstated. Use the [`sklearn.model_selection.train_test_split()`](http://scikit-learn.org/stable/modules/generated/sklearn.model_selection.train_test_split.html) function to create separate training & test datasets, then retrain each of the models using only the training set and evaluate the prediction accuracy using the hold out test set. Does the \"best\" model change?"
   ]
  }
 ],
 "metadata": {
  "kernelspec": {
   "display_name": "Python 3",
   "language": "python",
   "name": "python3"
  },
  "language_info": {
   "codemirror_mode": {
    "name": "ipython",
    "version": 3
   },
   "file_extension": ".py",
   "mimetype": "text/x-python",
   "name": "python",
   "nbconvert_exporter": "python",
   "pygments_lexer": "ipython3",
   "version": "3.6.4"
  }
 },
 "nbformat": 4,
 "nbformat_minor": 1
}
